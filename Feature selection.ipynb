{
 "cells": [
  {
   "cell_type": "markdown",
   "metadata": {},
   "source": [
    "## Filtering methods"
   ]
  },
  {
   "cell_type": "markdown",
   "metadata": {},
   "source": [
    "# Constant removal"
   ]
  },
  {
   "cell_type": "code",
   "execution_count": 2,
   "metadata": {},
   "outputs": [],
   "source": [
    "import numpy as np\n",
    "import pandas as pd\n",
    "import matplotlib.pyplot as plt\n",
    "import seaborn as sns"
   ]
  },
  {
   "cell_type": "code",
   "execution_count": 13,
   "metadata": {},
   "outputs": [],
   "source": [
    "from sklearn.model_selection import train_test_split\n",
    "from sklearn.ensemble import RandomForestClassifier\n",
    "from sklearn.metrics import accuracy_score\n",
    "from sklearn.feature_selection import VarianceThreshold"
   ]
  },
  {
   "cell_type": "code",
   "execution_count": 4,
   "metadata": {},
   "outputs": [
    {
     "data": {
      "text/plain": [
       "<bound method NDFrame.head of            ID  var3  var15  imp_ent_var16_ult1  imp_op_var39_comer_ult1  \\\n",
       "0           2     2     32                 0.0                      0.0   \n",
       "1           5     2     35                 0.0                      0.0   \n",
       "2           6     2     23                 0.0                      0.0   \n",
       "3           7     2     24                 0.0                      0.0   \n",
       "4           9     2     23                 0.0                      0.0   \n",
       "...       ...   ...    ...                 ...                      ...   \n",
       "75813  151831     2     23                 0.0                      0.0   \n",
       "75814  151832     2     26                 0.0                      0.0   \n",
       "75815  151833     2     24                 0.0                      0.0   \n",
       "75816  151834     2     40                 0.0                      0.0   \n",
       "75817  151837     2     23                 0.0                      0.0   \n",
       "\n",
       "       imp_op_var39_comer_ult3  imp_op_var40_comer_ult1  \\\n",
       "0                          0.0                      0.0   \n",
       "1                          0.0                      0.0   \n",
       "2                          0.0                      0.0   \n",
       "3                          0.0                      0.0   \n",
       "4                          0.0                      0.0   \n",
       "...                        ...                      ...   \n",
       "75813                      0.0                      0.0   \n",
       "75814                      0.0                      0.0   \n",
       "75815                      0.0                      0.0   \n",
       "75816                      0.0                      0.0   \n",
       "75817                      0.0                      0.0   \n",
       "\n",
       "       imp_op_var40_comer_ult3  imp_op_var40_efect_ult1  \\\n",
       "0                          0.0                      0.0   \n",
       "1                          0.0                      0.0   \n",
       "2                          0.0                      0.0   \n",
       "3                          0.0                      0.0   \n",
       "4                          0.0                      0.0   \n",
       "...                        ...                      ...   \n",
       "75813                      0.0                      0.0   \n",
       "75814                      0.0                      0.0   \n",
       "75815                      0.0                      0.0   \n",
       "75816                      0.0                      0.0   \n",
       "75817                      0.0                      0.0   \n",
       "\n",
       "       imp_op_var40_efect_ult3  ...  saldo_medio_var29_ult3  \\\n",
       "0                          0.0  ...                     0.0   \n",
       "1                          0.0  ...                     0.0   \n",
       "2                          0.0  ...                     0.0   \n",
       "3                          0.0  ...                     0.0   \n",
       "4                          0.0  ...                     0.0   \n",
       "...                        ...  ...                     ...   \n",
       "75813                      0.0  ...                     0.0   \n",
       "75814                      0.0  ...                     0.0   \n",
       "75815                      0.0  ...                     0.0   \n",
       "75816                      0.0  ...                     0.0   \n",
       "75817                      0.0  ...                     0.0   \n",
       "\n",
       "       saldo_medio_var33_hace2  saldo_medio_var33_hace3  \\\n",
       "0                          0.0                      0.0   \n",
       "1                          0.0                      0.0   \n",
       "2                          0.0                      0.0   \n",
       "3                          0.0                      0.0   \n",
       "4                          0.0                      0.0   \n",
       "...                        ...                      ...   \n",
       "75813                      0.0                      0.0   \n",
       "75814                      0.0                      0.0   \n",
       "75815                      0.0                      0.0   \n",
       "75816                      0.0                      0.0   \n",
       "75817                      0.0                      0.0   \n",
       "\n",
       "       saldo_medio_var33_ult1  saldo_medio_var33_ult3  \\\n",
       "0                         0.0                     0.0   \n",
       "1                         0.0                     0.0   \n",
       "2                         0.0                     0.0   \n",
       "3                         0.0                     0.0   \n",
       "4                         0.0                     0.0   \n",
       "...                       ...                     ...   \n",
       "75813                     0.0                     0.0   \n",
       "75814                     0.0                     0.0   \n",
       "75815                     0.0                     0.0   \n",
       "75816                     0.0                     0.0   \n",
       "75817                     0.0                     0.0   \n",
       "\n",
       "       saldo_medio_var44_hace2  saldo_medio_var44_hace3  \\\n",
       "0                          0.0                      0.0   \n",
       "1                          0.0                      0.0   \n",
       "2                          0.0                      0.0   \n",
       "3                          0.0                      0.0   \n",
       "4                          0.0                      0.0   \n",
       "...                        ...                      ...   \n",
       "75813                      0.0                      0.0   \n",
       "75814                      0.0                      0.0   \n",
       "75815                      0.0                      0.0   \n",
       "75816                      0.0                      0.0   \n",
       "75817                      0.0                      0.0   \n",
       "\n",
       "       saldo_medio_var44_ult1  saldo_medio_var44_ult3          var38  \n",
       "0                         0.0                     0.0   40532.100000  \n",
       "1                         0.0                     0.0   45486.720000  \n",
       "2                         0.0                     0.0   46993.950000  \n",
       "3                         0.0                     0.0  187898.610000  \n",
       "4                         0.0                     0.0   73649.730000  \n",
       "...                       ...                     ...            ...  \n",
       "75813                     0.0                     0.0   40243.200000  \n",
       "75814                     0.0                     0.0  146961.300000  \n",
       "75815                     0.0                     0.0  167299.770000  \n",
       "75816                     0.0                     0.0  117310.979016  \n",
       "75817                     0.0                     0.0  117310.979016  \n",
       "\n",
       "[75818 rows x 370 columns]>"
      ]
     },
     "execution_count": 4,
     "metadata": {},
     "output_type": "execute_result"
    }
   ],
   "source": [
    "data = pd.read_csv('santander-train.csv')\n",
    "test_data = pd.read_csv('santander-test.csv')\n",
    "test_data.head"
   ]
  },
  {
   "cell_type": "code",
   "execution_count": 5,
   "metadata": {},
   "outputs": [
    {
     "data": {
      "text/plain": [
       "((76020, 370), (76020,))"
      ]
     },
     "execution_count": 5,
     "metadata": {},
     "output_type": "execute_result"
    }
   ],
   "source": [
    "X = train_data.drop('TARGET', axis = 1)\n",
    "y = train_data['TARGET']\n",
    "\n",
    "X.shape,y.shape"
   ]
  },
  {
   "cell_type": "code",
   "execution_count": 6,
   "metadata": {},
   "outputs": [],
   "source": [
    "X_train, X_test, y_train, y_test = train_test_split(X,y, test_size = 0.2, random_state = 0, stratify = y)"
   ]
  },
  {
   "cell_type": "markdown",
   "metadata": {},
   "source": [
    "## Constant feature removal"
   ]
  },
  {
   "cell_type": "code",
   "execution_count": 7,
   "metadata": {},
   "outputs": [
    {
     "data": {
      "text/plain": [
       "VarianceThreshold(threshold=0)"
      ]
     },
     "execution_count": 7,
     "metadata": {},
     "output_type": "execute_result"
    }
   ],
   "source": [
    "# This is removing all the low variance features \n",
    "constant_filter = VarianceThreshold(threshold = 0)\n",
    "constant_filter.fit(X_train)"
   ]
  },
  {
   "cell_type": "code",
   "execution_count": 8,
   "metadata": {},
   "outputs": [
    {
     "data": {
      "text/plain": [
       "334"
      ]
     },
     "execution_count": 8,
     "metadata": {},
     "output_type": "execute_result"
    }
   ],
   "source": [
    "# Tells us the number of features remaining \n",
    "constant_filter.get_support().sum()"
   ]
  },
  {
   "cell_type": "code",
   "execution_count": 9,
   "metadata": {},
   "outputs": [
    {
     "data": {
      "text/plain": [
       "Index(['ind_var2_0', 'ind_var2', 'ind_var27_0', 'ind_var28_0', 'ind_var28',\n",
       "       'ind_var27', 'ind_var41', 'ind_var46_0', 'ind_var46', 'num_var27_0',\n",
       "       'num_var28_0', 'num_var28', 'num_var27', 'num_var41', 'num_var46_0',\n",
       "       'num_var46', 'saldo_var28', 'saldo_var27', 'saldo_var41', 'saldo_var46',\n",
       "       'imp_amort_var18_hace3', 'imp_amort_var34_hace3',\n",
       "       'imp_reemb_var13_hace3', 'imp_reemb_var17_hace3',\n",
       "       'imp_reemb_var33_hace3', 'imp_trasp_var17_out_hace3',\n",
       "       'imp_trasp_var33_out_hace3', 'num_var2_0_ult1', 'num_var2_ult1',\n",
       "       'num_reemb_var13_hace3', 'num_reemb_var17_hace3',\n",
       "       'num_reemb_var33_hace3', 'num_trasp_var17_out_hace3',\n",
       "       'num_trasp_var33_out_hace3', 'saldo_var2_ult1',\n",
       "       'saldo_medio_var13_medio_hace3'],\n",
       "      dtype='object')"
      ]
     },
     "execution_count": 9,
     "metadata": {},
     "output_type": "execute_result"
    }
   ],
   "source": [
    "# to print the removed constant features\n",
    "# returns true for all the features that are constant\n",
    "const_list = [not temp for temp in constant_filter.get_support()]\n",
    "\n",
    "# to print them out\n",
    "\n",
    "X.columns[const_list]\n"
   ]
  },
  {
   "cell_type": "code",
   "execution_count": 10,
   "metadata": {},
   "outputs": [],
   "source": [
    "# to remove the identified constant features you use the transform method\n",
    "\n",
    "X_train_filter = constant_filter.transform(X_train)\n",
    "X_test_filter = constant_filter.transform(X_test)"
   ]
  },
  {
   "cell_type": "code",
   "execution_count": 16,
   "metadata": {},
   "outputs": [],
   "source": [
    "quasi_constant = VarianceThreshold(threshold = 0.01)\n"
   ]
  },
  {
   "cell_type": "code",
   "execution_count": 18,
   "metadata": {},
   "outputs": [
    {
     "data": {
      "text/plain": [
       "VarianceThreshold(threshold=0.01)"
      ]
     },
     "execution_count": 18,
     "metadata": {},
     "output_type": "execute_result"
    }
   ],
   "source": [
    "quasi_constant.fit(X_train_filter)"
   ]
  },
  {
   "cell_type": "code",
   "execution_count": 22,
   "metadata": {},
   "outputs": [
    {
     "data": {
      "text/plain": [
       "274"
      ]
     },
     "execution_count": 22,
     "metadata": {},
     "output_type": "execute_result"
    }
   ],
   "source": [
    "quasi_constant.get_support().sum()"
   ]
  },
  {
   "cell_type": "code",
   "execution_count": 24,
   "metadata": {},
   "outputs": [],
   "source": [
    "# Transforming the train and test dataset\n",
    "X_train_quasi_filter = quasi_constant.transform(X_train_filter)\n",
    "X_test_quasi_filter = quasi_constant.transform(X_test_filter)"
   ]
  },
  {
   "cell_type": "code",
   "execution_count": 26,
   "metadata": {},
   "outputs": [],
   "source": [
    "# Transposing the two datasets\n",
    "X_train_T = X_train_quasi_filter.T\n",
    "X_test_T = X_test_quasi_filter.T"
   ]
  },
  {
   "cell_type": "code",
   "execution_count": 28,
   "metadata": {},
   "outputs": [
    {
     "data": {
      "text/plain": [
       "numpy.ndarray"
      ]
     },
     "execution_count": 28,
     "metadata": {},
     "output_type": "execute_result"
    }
   ],
   "source": [
    "type(X_train_T)"
   ]
  },
  {
   "cell_type": "code",
   "execution_count": 29,
   "metadata": {},
   "outputs": [],
   "source": [
    "# converting to pandas dataframe\n",
    "X_train_T = pd.DataFrame(X_train_T)\n",
    "X_test_T = pd.DataFrame(X_test_T)"
   ]
  },
  {
   "cell_type": "code",
   "execution_count": 30,
   "metadata": {},
   "outputs": [
    {
     "data": {
      "text/plain": [
       "((274, 60816), (274, 15204))"
      ]
     },
     "execution_count": 30,
     "metadata": {},
     "output_type": "execute_result"
    }
   ],
   "source": [
    "X_train_T.shape,X_test_T.shape"
   ]
  },
  {
   "cell_type": "code",
   "execution_count": 34,
   "metadata": {},
   "outputs": [
    {
     "data": {
      "text/plain": [
       "17"
      ]
     },
     "execution_count": 34,
     "metadata": {},
     "output_type": "execute_result"
    }
   ],
   "source": [
    "# check for duplicates\n",
    "X_train_T.duplicated().sum()"
   ]
  },
  {
   "cell_type": "code",
   "execution_count": 42,
   "metadata": {},
   "outputs": [],
   "source": [
    "# returns booleans of true for duplicated and false otherwise\n",
    "duplicated_features = X_train_T.duplicated()"
   ]
  },
  {
   "cell_type": "code",
   "execution_count": 43,
   "metadata": {},
   "outputs": [
    {
     "data": {
      "text/plain": [
       "0      False\n",
       "1      False\n",
       "2      False\n",
       "3      False\n",
       "4      False\n",
       "       ...  \n",
       "269    False\n",
       "270    False\n",
       "271    False\n",
       "272    False\n",
       "273    False\n",
       "Length: 274, dtype: bool"
      ]
     },
     "execution_count": 43,
     "metadata": {},
     "output_type": "execute_result"
    }
   ],
   "source": [
    "duplicated_features"
   ]
  },
  {
   "cell_type": "code",
   "execution_count": 44,
   "metadata": {},
   "outputs": [],
   "source": [
    "# changing the falses into true\n",
    "features_to_keep = [not index for index in duplicated_features]"
   ]
  },
  {
   "cell_type": "code",
   "execution_count": 45,
   "metadata": {},
   "outputs": [],
   "source": [
    "X_train_unique = X_train_T[features_to_keep].T\n",
    "X_test_unique = X_test_T[features_to_keep].T"
   ]
  },
  {
   "cell_type": "code",
   "execution_count": 46,
   "metadata": {},
   "outputs": [
    {
     "data": {
      "text/plain": [
       "((60816, 257), (15204, 257))"
      ]
     },
     "execution_count": 46,
     "metadata": {},
     "output_type": "execute_result"
    }
   ],
   "source": [
    "X_train_unique.shape,X_test_unique.shape"
   ]
  },
  {
   "cell_type": "markdown",
   "metadata": {},
   "source": [
    "### Building the ML Model"
   ]
  },
  {
   "cell_type": "code",
   "execution_count": 49,
   "metadata": {},
   "outputs": [],
   "source": [
    "def run_randomForest(X_train,X_test, y_train, y_test):\n",
    "    clf = RandomForestClassifier(n_estimators = 100, random_state=0, n_jobs = -1)\n",
    "    clf.fit(X_train, y_train)\n",
    "    y_pred = clf.predict(X_test)\n",
    "    print('Accuracy on test set: ')\n",
    "    print(accuracy_score(y_test, y_pred))"
   ]
  },
  {
   "cell_type": "code",
   "execution_count": 51,
   "metadata": {},
   "outputs": [
    {
     "name": "stdout",
     "output_type": "stream",
     "text": [
      "Accuracy on test set: \n",
      "0.9577742699289661\n"
     ]
    }
   ],
   "source": [
    "run_randomForest(X_train_unique,X_test_unique,y_train,y_test ) "
   ]
  },
  {
   "cell_type": "code",
   "execution_count": 52,
   "metadata": {},
   "outputs": [],
   "source": [
    "corrmat = X_train_unique.corr()"
   ]
  },
  {
   "cell_type": "code",
   "execution_count": 54,
   "metadata": {},
   "outputs": [
    {
     "data": {
      "text/plain": [
       "<matplotlib.axes._subplots.AxesSubplot at 0x240d5b2c448>"
      ]
     },
     "execution_count": 54,
     "metadata": {},
     "output_type": "execute_result"
    },
    {
     "data": {
      "image/png": "[encoded data removed]",
      "text/plain": [
       "<Figure size 864x576 with 2 Axes>"
      ]
     },
     "metadata": {
      "needs_background": "light"
     },
     "output_type": "display_data"
    }
   ],
   "source": [
    "plt.figure(figsize=(12,8))\n",
    "sns.heatmap(corrmat)\n",
    "# features that intercept on Black are very heavily unrelated and vice versa"
   ]
  },
  {
   "cell_type": "code",
   "execution_count": 55,
   "metadata": {},
   "outputs": [],
   "source": [
    "# calculating the overall correlation\n",
    "\n",
    "def get_correlation(data,threshold):\n",
    "    corr_col = set()\n",
    "    corrmat = data.corr()\n",
    "    for i in range(len(corrmat.columns)):\n",
    "        for j in range(i):\n",
    "            if abs(corrmat.iloc[i,j]) > threshold:\n",
    "                colname = corrmat.columns[i]\n",
    "                corr_col.add(colname)\n",
    "    return corr_col"
   ]
  },
  {
   "cell_type": "code",
   "execution_count": 56,
   "metadata": {},
   "outputs": [
    {
     "data": {
      "text/plain": [
       "{5,\n",
       " 7,\n",
       " 9,\n",
       " 11,\n",
       " 12,\n",
       " 15,\n",
       " 16,\n",
       " 17,\n",
       " 18,\n",
       " 23,\n",
       " 24,\n",
       " 28,\n",
       " 29,\n",
       " 31,\n",
       " 32,\n",
       " 34,\n",
       " 35,\n",
       " 37,\n",
       " 38,\n",
       " 40,\n",
       " 44,\n",
       " 47,\n",
       " 48,\n",
       " 49,\n",
       " 52,\n",
       " 53,\n",
       " 54,\n",
       " 55,\n",
       " 56,\n",
       " 57,\n",
       " 58,\n",
       " 59,\n",
       " 60,\n",
       " 61,\n",
       " 62,\n",
       " 63,\n",
       " 67,\n",
       " 69,\n",
       " 70,\n",
       " 71,\n",
       " 72,\n",
       " 74,\n",
       " 79,\n",
       " 83,\n",
       " 84,\n",
       " 85,\n",
       " 86,\n",
       " 87,\n",
       " 89,\n",
       " 90,\n",
       " 91,\n",
       " 95,\n",
       " 97,\n",
       " 99,\n",
       " 100,\n",
       " 101,\n",
       " 102,\n",
       " 104,\n",
       " 105,\n",
       " 107,\n",
       " 119,\n",
       " 121,\n",
       " 123,\n",
       " 126,\n",
       " 131,\n",
       " 132,\n",
       " 136,\n",
       " 149,\n",
       " 150,\n",
       " 151,\n",
       " 152,\n",
       " 160,\n",
       " 161,\n",
       " 162,\n",
       " 165,\n",
       " 175,\n",
       " 183,\n",
       " 185,\n",
       " 186,\n",
       " 187,\n",
       " 188,\n",
       " 189,\n",
       " 205,\n",
       " 207,\n",
       " 208,\n",
       " 209,\n",
       " 210,\n",
       " 213,\n",
       " 214,\n",
       " 216,\n",
       " 217,\n",
       " 218,\n",
       " 219,\n",
       " 220,\n",
       " 222,\n",
       " 223,\n",
       " 224,\n",
       " 230,\n",
       " 232,\n",
       " 233,\n",
       " 240,\n",
       " 241,\n",
       " 242,\n",
       " 244,\n",
       " 245,\n",
       " 246,\n",
       " 248,\n",
       " 249,\n",
       " 252,\n",
       " 253,\n",
       " 254,\n",
       " 256,\n",
       " 257,\n",
       " 258,\n",
       " 259,\n",
       " 260,\n",
       " 263,\n",
       " 264,\n",
       " 265,\n",
       " 267,\n",
       " 268,\n",
       " 271,\n",
       " 272}"
      ]
     },
     "execution_count": 56,
     "metadata": {},
     "output_type": "execute_result"
    }
   ],
   "source": [
    "corr_features = get_correlation(X_train_unique, 0.85)\n",
    "corr_features"
   ]
  },
  {
   "cell_type": "code",
   "execution_count": 58,
   "metadata": {},
   "outputs": [
    {
     "data": {
      "text/plain": [
       "123"
      ]
     },
     "execution_count": 58,
     "metadata": {},
     "output_type": "execute_result"
    }
   ],
   "source": [
    "len(corr_features)"
   ]
  },
  {
   "cell_type": "code",
   "execution_count": 60,
   "metadata": {},
   "outputs": [],
   "source": [
    "X_train_uncorr = X_train_unique.drop(labels=corr_features, axis = 1)\n",
    "X_test_uncorr = X_test_unique.drop(labels=corr_features, axis = 1)"
   ]
  },
  {
   "cell_type": "code",
   "execution_count": 62,
   "metadata": {},
   "outputs": [
    {
     "data": {
      "text/plain": [
       "((60816, 134), (15204, 134))"
      ]
     },
     "execution_count": 62,
     "metadata": {},
     "output_type": "execute_result"
    }
   ],
   "source": [
    "X_train_uncorr.shape,X_test_uncorr.shape"
   ]
  },
  {
   "cell_type": "code",
   "execution_count": 64,
   "metadata": {},
   "outputs": [
    {
     "name": "stdout",
     "output_type": "stream",
     "text": [
      "Accuracy on test set: \n",
      "0.9575111812680873\n",
      "Wall time: 19.1 s\n"
     ]
    }
   ],
   "source": [
    "%%time\n",
    "run_randomForest(X_train_uncorr,X_test_uncorr,y_train,y_test)"
   ]
  },
  {
   "cell_type": "markdown",
   "metadata": {},
   "source": [
    "## Grouping of correlated features"
   ]
  },
  {
   "cell_type": "code",
   "execution_count": 66,
   "metadata": {},
   "outputs": [
    {
     "data": {
      "text/html": [
       "<div>\n",
       "<style scoped>\n",
       "    .dataframe tbody tr th:only-of-type {\n",
       "        vertical-align: middle;\n",
       "    }\n",
       "\n",
       "    .dataframe tbody tr th {\n",
       "        vertical-align: top;\n",
       "    }\n",
       "\n",
       "    .dataframe thead th {\n",
       "        text-align: right;\n",
       "    }\n",
       "</style>\n",
       "<table border=\"1\" class=\"dataframe\">\n",
       "  <thead>\n",
       "    <tr style=\"text-align: right;\">\n",
       "      <th></th>\n",
       "      <th>0</th>\n",
       "      <th>1</th>\n",
       "      <th>2</th>\n",
       "      <th>3</th>\n",
       "      <th>4</th>\n",
       "      <th>5</th>\n",
       "      <th>6</th>\n",
       "      <th>7</th>\n",
       "      <th>8</th>\n",
       "      <th>9</th>\n",
       "      <th>...</th>\n",
       "      <th>264</th>\n",
       "      <th>265</th>\n",
       "      <th>266</th>\n",
       "      <th>267</th>\n",
       "      <th>268</th>\n",
       "      <th>269</th>\n",
       "      <th>270</th>\n",
       "      <th>271</th>\n",
       "      <th>272</th>\n",
       "      <th>273</th>\n",
       "    </tr>\n",
       "  </thead>\n",
       "  <tbody>\n",
       "    <tr>\n",
       "      <td>0</td>\n",
       "      <td>1.000000</td>\n",
       "      <td>1.729007e-03</td>\n",
       "      <td>-0.000254</td>\n",
       "      <td>-0.005682</td>\n",
       "      <td>-0.000346</td>\n",
       "      <td>-0.003110</td>\n",
       "      <td>-0.004019</td>\n",
       "      <td>-0.004011</td>\n",
       "      <td>-0.009194</td>\n",
       "      <td>-0.008626</td>\n",
       "      <td>...</td>\n",
       "      <td>-0.006925</td>\n",
       "      <td>0.002045</td>\n",
       "      <td>0.003100</td>\n",
       "      <td>-0.001107</td>\n",
       "      <td>-0.000835</td>\n",
       "      <td>-0.004486</td>\n",
       "      <td>-0.003159</td>\n",
       "      <td>-0.002534</td>\n",
       "      <td>-0.001901</td>\n",
       "      <td>-4.976133e-03</td>\n",
       "    </tr>\n",
       "    <tr>\n",
       "      <td>1</td>\n",
       "      <td>0.001729</td>\n",
       "      <td>1.000000e+00</td>\n",
       "      <td>-0.003901</td>\n",
       "      <td>0.002008</td>\n",
       "      <td>0.007571</td>\n",
       "      <td>0.008096</td>\n",
       "      <td>0.001427</td>\n",
       "      <td>0.001558</td>\n",
       "      <td>0.000463</td>\n",
       "      <td>0.000556</td>\n",
       "      <td>...</td>\n",
       "      <td>0.000205</td>\n",
       "      <td>0.000697</td>\n",
       "      <td>0.000467</td>\n",
       "      <td>0.000603</td>\n",
       "      <td>0.000638</td>\n",
       "      <td>0.000599</td>\n",
       "      <td>0.000502</td>\n",
       "      <td>0.000715</td>\n",
       "      <td>0.000756</td>\n",
       "      <td>-3.416077e-07</td>\n",
       "    </tr>\n",
       "    <tr>\n",
       "      <td>2</td>\n",
       "      <td>-0.000254</td>\n",
       "      <td>-3.900684e-03</td>\n",
       "      <td>1.000000</td>\n",
       "      <td>0.041196</td>\n",
       "      <td>0.091779</td>\n",
       "      <td>0.098097</td>\n",
       "      <td>0.039825</td>\n",
       "      <td>0.043382</td>\n",
       "      <td>0.007651</td>\n",
       "      <td>0.008741</td>\n",
       "      <td>...</td>\n",
       "      <td>0.011865</td>\n",
       "      <td>0.029886</td>\n",
       "      <td>0.016513</td>\n",
       "      <td>0.028826</td>\n",
       "      <td>0.029562</td>\n",
       "      <td>0.031825</td>\n",
       "      <td>0.019675</td>\n",
       "      <td>0.034699</td>\n",
       "      <td>0.035776</td>\n",
       "      <td>3.708910e-03</td>\n",
       "    </tr>\n",
       "    <tr>\n",
       "      <td>3</td>\n",
       "      <td>-0.005682</td>\n",
       "      <td>2.007748e-03</td>\n",
       "      <td>0.041196</td>\n",
       "      <td>1.000000</td>\n",
       "      <td>0.040702</td>\n",
       "      <td>0.035257</td>\n",
       "      <td>0.004600</td>\n",
       "      <td>0.006684</td>\n",
       "      <td>0.000748</td>\n",
       "      <td>0.002858</td>\n",
       "      <td>...</td>\n",
       "      <td>0.009027</td>\n",
       "      <td>-0.000910</td>\n",
       "      <td>-0.000614</td>\n",
       "      <td>-0.000628</td>\n",
       "      <td>-0.000606</td>\n",
       "      <td>-0.000500</td>\n",
       "      <td>-0.000606</td>\n",
       "      <td>-0.000705</td>\n",
       "      <td>-0.000722</td>\n",
       "      <td>1.720111e-04</td>\n",
       "    </tr>\n",
       "    <tr>\n",
       "      <td>4</td>\n",
       "      <td>-0.000346</td>\n",
       "      <td>7.570815e-03</td>\n",
       "      <td>0.091779</td>\n",
       "      <td>0.040702</td>\n",
       "      <td>1.000000</td>\n",
       "      <td>0.887059</td>\n",
       "      <td>0.330151</td>\n",
       "      <td>0.283619</td>\n",
       "      <td>0.026883</td>\n",
       "      <td>0.053966</td>\n",
       "      <td>...</td>\n",
       "      <td>0.001779</td>\n",
       "      <td>0.018046</td>\n",
       "      <td>0.013414</td>\n",
       "      <td>0.013068</td>\n",
       "      <td>0.014324</td>\n",
       "      <td>0.011142</td>\n",
       "      <td>0.006080</td>\n",
       "      <td>0.011130</td>\n",
       "      <td>0.009281</td>\n",
       "      <td>1.168986e-02</td>\n",
       "    </tr>\n",
       "    <tr>\n",
       "      <td>...</td>\n",
       "      <td>...</td>\n",
       "      <td>...</td>\n",
       "      <td>...</td>\n",
       "      <td>...</td>\n",
       "      <td>...</td>\n",
       "      <td>...</td>\n",
       "      <td>...</td>\n",
       "      <td>...</td>\n",
       "      <td>...</td>\n",
       "      <td>...</td>\n",
       "      <td>...</td>\n",
       "      <td>...</td>\n",
       "      <td>...</td>\n",
       "      <td>...</td>\n",
       "      <td>...</td>\n",
       "      <td>...</td>\n",
       "      <td>...</td>\n",
       "      <td>...</td>\n",
       "      <td>...</td>\n",
       "      <td>...</td>\n",
       "      <td>...</td>\n",
       "    </tr>\n",
       "    <tr>\n",
       "      <td>269</td>\n",
       "      <td>-0.004486</td>\n",
       "      <td>5.992592e-04</td>\n",
       "      <td>0.031825</td>\n",
       "      <td>-0.000500</td>\n",
       "      <td>0.011142</td>\n",
       "      <td>0.010006</td>\n",
       "      <td>-0.000374</td>\n",
       "      <td>-0.000500</td>\n",
       "      <td>-0.000188</td>\n",
       "      <td>-0.000226</td>\n",
       "      <td>...</td>\n",
       "      <td>-0.000084</td>\n",
       "      <td>0.001305</td>\n",
       "      <td>-0.000182</td>\n",
       "      <td>0.003800</td>\n",
       "      <td>0.003329</td>\n",
       "      <td>1.000000</td>\n",
       "      <td>0.315712</td>\n",
       "      <td>0.838027</td>\n",
       "      <td>0.740674</td>\n",
       "      <td>3.712808e-03</td>\n",
       "    </tr>\n",
       "    <tr>\n",
       "      <td>270</td>\n",
       "      <td>-0.003159</td>\n",
       "      <td>5.017307e-04</td>\n",
       "      <td>0.019675</td>\n",
       "      <td>-0.000606</td>\n",
       "      <td>0.006080</td>\n",
       "      <td>0.007069</td>\n",
       "      <td>-0.000471</td>\n",
       "      <td>-0.000509</td>\n",
       "      <td>-0.000154</td>\n",
       "      <td>-0.000185</td>\n",
       "      <td>...</td>\n",
       "      <td>-0.000069</td>\n",
       "      <td>-0.000221</td>\n",
       "      <td>-0.000149</td>\n",
       "      <td>-0.000191</td>\n",
       "      <td>-0.000202</td>\n",
       "      <td>0.315712</td>\n",
       "      <td>1.000000</td>\n",
       "      <td>0.227625</td>\n",
       "      <td>0.217167</td>\n",
       "      <td>4.181776e-03</td>\n",
       "    </tr>\n",
       "    <tr>\n",
       "      <td>271</td>\n",
       "      <td>-0.002534</td>\n",
       "      <td>7.147679e-04</td>\n",
       "      <td>0.034699</td>\n",
       "      <td>-0.000705</td>\n",
       "      <td>0.011130</td>\n",
       "      <td>0.009531</td>\n",
       "      <td>-0.000108</td>\n",
       "      <td>-0.000392</td>\n",
       "      <td>-0.000226</td>\n",
       "      <td>-0.000271</td>\n",
       "      <td>...</td>\n",
       "      <td>-0.000101</td>\n",
       "      <td>0.000934</td>\n",
       "      <td>-0.000218</td>\n",
       "      <td>0.002940</td>\n",
       "      <td>0.002559</td>\n",
       "      <td>0.838027</td>\n",
       "      <td>0.227625</td>\n",
       "      <td>1.000000</td>\n",
       "      <td>0.970078</td>\n",
       "      <td>4.603756e-03</td>\n",
       "    </tr>\n",
       "    <tr>\n",
       "      <td>272</td>\n",
       "      <td>-0.001901</td>\n",
       "      <td>7.555793e-04</td>\n",
       "      <td>0.035776</td>\n",
       "      <td>-0.000722</td>\n",
       "      <td>0.009281</td>\n",
       "      <td>0.007489</td>\n",
       "      <td>-0.000229</td>\n",
       "      <td>-0.000485</td>\n",
       "      <td>-0.000239</td>\n",
       "      <td>-0.000287</td>\n",
       "      <td>...</td>\n",
       "      <td>-0.000106</td>\n",
       "      <td>0.001157</td>\n",
       "      <td>-0.000230</td>\n",
       "      <td>0.003543</td>\n",
       "      <td>0.003090</td>\n",
       "      <td>0.740674</td>\n",
       "      <td>0.217167</td>\n",
       "      <td>0.970078</td>\n",
       "      <td>1.000000</td>\n",
       "      <td>4.684484e-03</td>\n",
       "    </tr>\n",
       "    <tr>\n",
       "      <td>273</td>\n",
       "      <td>-0.004976</td>\n",
       "      <td>-3.416077e-07</td>\n",
       "      <td>0.003709</td>\n",
       "      <td>0.000172</td>\n",
       "      <td>0.011690</td>\n",
       "      <td>0.012678</td>\n",
       "      <td>0.006143</td>\n",
       "      <td>0.006424</td>\n",
       "      <td>-0.000126</td>\n",
       "      <td>0.001081</td>\n",
       "      <td>...</td>\n",
       "      <td>-0.001888</td>\n",
       "      <td>0.004598</td>\n",
       "      <td>0.001061</td>\n",
       "      <td>0.004804</td>\n",
       "      <td>0.004776</td>\n",
       "      <td>0.003713</td>\n",
       "      <td>0.004182</td>\n",
       "      <td>0.004604</td>\n",
       "      <td>0.004684</td>\n",
       "      <td>1.000000e+00</td>\n",
       "    </tr>\n",
       "  </tbody>\n",
       "</table>\n",
       "<p>257 rows × 257 columns</p>\n",
       "</div>"
      ],
      "text/plain": [
       "          0             1         2         3         4         5         6    \\\n",
       "0    1.000000  1.729007e-03 -0.000254 -0.005682 -0.000346 -0.003110 -0.004019   \n",
       "1    0.001729  1.000000e+00 -0.003901  0.002008  0.007571  0.008096  0.001427   \n",
       "2   -0.000254 -3.900684e-03  1.000000  0.041196  0.091779  0.098097  0.039825   \n",
       "3   -0.005682  2.007748e-03  0.041196  1.000000  0.040702  0.035257  0.004600   \n",
       "4   -0.000346  7.570815e-03  0.091779  0.040702  1.000000  0.887059  0.330151   \n",
       "..        ...           ...       ...       ...       ...       ...       ...   \n",
       "269 -0.004486  5.992592e-04  0.031825 -0.000500  0.011142  0.010006 -0.000374   \n",
       "270 -0.003159  5.017307e-04  0.019675 -0.000606  0.006080  0.007069 -0.000471   \n",
       "271 -0.002534  7.147679e-04  0.034699 -0.000705  0.011130  0.009531 -0.000108   \n",
       "272 -0.001901  7.555793e-04  0.035776 -0.000722  0.009281  0.007489 -0.000229   \n",
       "273 -0.004976 -3.416077e-07  0.003709  0.000172  0.011690  0.012678  0.006143   \n",
       "\n",
       "          7         8         9    ...       264       265       266  \\\n",
       "0   -0.004011 -0.009194 -0.008626  ... -0.006925  0.002045  0.003100   \n",
       "1    0.001558  0.000463  0.000556  ...  0.000205  0.000697  0.000467   \n",
       "2    0.043382  0.007651  0.008741  ...  0.011865  0.029886  0.016513   \n",
       "3    0.006684  0.000748  0.002858  ...  0.009027 -0.000910 -0.000614   \n",
       "4    0.283619  0.026883  0.053966  ...  0.001779  0.018046  0.013414   \n",
       "..        ...       ...       ...  ...       ...       ...       ...   \n",
       "269 -0.000500 -0.000188 -0.000226  ... -0.000084  0.001305 -0.000182   \n",
       "270 -0.000509 -0.000154 -0.000185  ... -0.000069 -0.000221 -0.000149   \n",
       "271 -0.000392 -0.000226 -0.000271  ... -0.000101  0.000934 -0.000218   \n",
       "272 -0.000485 -0.000239 -0.000287  ... -0.000106  0.001157 -0.000230   \n",
       "273  0.006424 -0.000126  0.001081  ... -0.001888  0.004598  0.001061   \n",
       "\n",
       "          267       268       269       270       271       272           273  \n",
       "0   -0.001107 -0.000835 -0.004486 -0.003159 -0.002534 -0.001901 -4.976133e-03  \n",
       "1    0.000603  0.000638  0.000599  0.000502  0.000715  0.000756 -3.416077e-07  \n",
       "2    0.028826  0.029562  0.031825  0.019675  0.034699  0.035776  3.708910e-03  \n",
       "3   -0.000628 -0.000606 -0.000500 -0.000606 -0.000705 -0.000722  1.720111e-04  \n",
       "4    0.013068  0.014324  0.011142  0.006080  0.011130  0.009281  1.168986e-02  \n",
       "..        ...       ...       ...       ...       ...       ...           ...  \n",
       "269  0.003800  0.003329  1.000000  0.315712  0.838027  0.740674  3.712808e-03  \n",
       "270 -0.000191 -0.000202  0.315712  1.000000  0.227625  0.217167  4.181776e-03  \n",
       "271  0.002940  0.002559  0.838027  0.227625  1.000000  0.970078  4.603756e-03  \n",
       "272  0.003543  0.003090  0.740674  0.217167  0.970078  1.000000  4.684484e-03  \n",
       "273  0.004804  0.004776  0.003713  0.004182  0.004604  0.004684  1.000000e+00  \n",
       "\n",
       "[257 rows x 257 columns]"
      ]
     },
     "execution_count": 66,
     "metadata": {},
     "output_type": "execute_result"
    }
   ],
   "source": [
    "corrmat"
   ]
  },
  {
   "cell_type": "code",
   "execution_count": 69,
   "metadata": {},
   "outputs": [
    {
     "data": {
      "text/plain": [
       "0    0      1.000000\n",
       "     1      0.001729\n",
       "     2      0.000254\n",
       "     3      0.005682\n",
       "     4      0.000346\n",
       "              ...   \n",
       "273  269    0.003713\n",
       "     270    0.004182\n",
       "     271    0.004604\n",
       "     272    0.004684\n",
       "     273    1.000000\n",
       "Length: 66049, dtype: float64"
      ]
     },
     "execution_count": 69,
     "metadata": {},
     "output_type": "execute_result"
    }
   ],
   "source": [
    "# a simplified view of the corrmatrix in absolute values\n",
    "corr_data = corrmat.abs().stack()\n",
    "corr_data"
   ]
  },
  {
   "cell_type": "code",
   "execution_count": 72,
   "metadata": {},
   "outputs": [
    {
     "data": {
      "text/plain": [
       "254  256    1.000000e+00\n",
       "256  254    1.000000e+00\n",
       "24   55     1.000000e+00\n",
       "55   24     1.000000e+00\n",
       "138  150    1.000000e+00\n",
       "                ...     \n",
       "243  253    1.536049e-07\n",
       "172  24     1.068761e-07\n",
       "24   172    1.068761e-07\n",
       "55   172    1.068761e-07\n",
       "172  55     1.068761e-07\n",
       "Length: 66049, dtype: float64"
      ]
     },
     "execution_count": 72,
     "metadata": {},
     "output_type": "execute_result"
    }
   ],
   "source": [
    "corr_data = corr_data.sort_values(ascending = False)\n",
    "corr_data"
   ]
  },
  {
   "cell_type": "code",
   "execution_count": 74,
   "metadata": {},
   "outputs": [
    {
     "data": {
      "text/plain": [
       "140  152    1.000000\n",
       "152  140    1.000000\n",
       "160  148    1.000000\n",
       "148  160    1.000000\n",
       "137  149    1.000000\n",
       "              ...   \n",
       "188  43     0.851146\n",
       "111  241    0.850602\n",
       "241  111    0.850602\n",
       "218  217    0.850287\n",
       "217  218    0.850287\n",
       "Length: 516, dtype: float64"
      ]
     },
     "execution_count": 74,
     "metadata": {},
     "output_type": "execute_result"
    }
   ],
   "source": [
    "# grouping the correlated \n",
    "\n",
    "corr_data = corr_data[corr_data>0.85]\n",
    "corr_data = corr_data[corr_data< 1]\n",
    "corr_data"
   ]
  },
  {
   "cell_type": "code",
   "execution_count": 76,
   "metadata": {},
   "outputs": [
    {
     "data": {
      "text/html": [
       "<div>\n",
       "<style scoped>\n",
       "    .dataframe tbody tr th:only-of-type {\n",
       "        vertical-align: middle;\n",
       "    }\n",
       "\n",
       "    .dataframe tbody tr th {\n",
       "        vertical-align: top;\n",
       "    }\n",
       "\n",
       "    .dataframe thead th {\n",
       "        text-align: right;\n",
       "    }\n",
       "</style>\n",
       "<table border=\"1\" class=\"dataframe\">\n",
       "  <thead>\n",
       "    <tr style=\"text-align: right;\">\n",
       "      <th></th>\n",
       "      <th>Features1</th>\n",
       "      <th>Features2</th>\n",
       "      <th>Value</th>\n",
       "    </tr>\n",
       "  </thead>\n",
       "  <tbody>\n",
       "    <tr>\n",
       "      <td>0</td>\n",
       "      <td>140</td>\n",
       "      <td>152</td>\n",
       "      <td>1.000000</td>\n",
       "    </tr>\n",
       "    <tr>\n",
       "      <td>1</td>\n",
       "      <td>152</td>\n",
       "      <td>140</td>\n",
       "      <td>1.000000</td>\n",
       "    </tr>\n",
       "    <tr>\n",
       "      <td>2</td>\n",
       "      <td>160</td>\n",
       "      <td>148</td>\n",
       "      <td>1.000000</td>\n",
       "    </tr>\n",
       "    <tr>\n",
       "      <td>3</td>\n",
       "      <td>148</td>\n",
       "      <td>160</td>\n",
       "      <td>1.000000</td>\n",
       "    </tr>\n",
       "    <tr>\n",
       "      <td>4</td>\n",
       "      <td>137</td>\n",
       "      <td>149</td>\n",
       "      <td>1.000000</td>\n",
       "    </tr>\n",
       "    <tr>\n",
       "      <td>...</td>\n",
       "      <td>...</td>\n",
       "      <td>...</td>\n",
       "      <td>...</td>\n",
       "    </tr>\n",
       "    <tr>\n",
       "      <td>511</td>\n",
       "      <td>188</td>\n",
       "      <td>43</td>\n",
       "      <td>0.851146</td>\n",
       "    </tr>\n",
       "    <tr>\n",
       "      <td>512</td>\n",
       "      <td>111</td>\n",
       "      <td>241</td>\n",
       "      <td>0.850602</td>\n",
       "    </tr>\n",
       "    <tr>\n",
       "      <td>513</td>\n",
       "      <td>241</td>\n",
       "      <td>111</td>\n",
       "      <td>0.850602</td>\n",
       "    </tr>\n",
       "    <tr>\n",
       "      <td>514</td>\n",
       "      <td>218</td>\n",
       "      <td>217</td>\n",
       "      <td>0.850287</td>\n",
       "    </tr>\n",
       "    <tr>\n",
       "      <td>515</td>\n",
       "      <td>217</td>\n",
       "      <td>218</td>\n",
       "      <td>0.850287</td>\n",
       "    </tr>\n",
       "  </tbody>\n",
       "</table>\n",
       "<p>516 rows × 3 columns</p>\n",
       "</div>"
      ],
      "text/plain": [
       "     Features1  Features2     Value\n",
       "0          140        152  1.000000\n",
       "1          152        140  1.000000\n",
       "2          160        148  1.000000\n",
       "3          148        160  1.000000\n",
       "4          137        149  1.000000\n",
       "..         ...        ...       ...\n",
       "511        188         43  0.851146\n",
       "512        111        241  0.850602\n",
       "513        241        111  0.850602\n",
       "514        218        217  0.850287\n",
       "515        217        218  0.850287\n",
       "\n",
       "[516 rows x 3 columns]"
      ]
     },
     "execution_count": 76,
     "metadata": {},
     "output_type": "execute_result"
    }
   ],
   "source": [
    "corrdata = pd.DataFrame(corr_data).reset_index()\n",
    "corrdata.columns = ['Features1', 'Features2','Value']\n",
    "corrdata"
   ]
  },
  {
   "cell_type": "code",
   "execution_count": 81,
   "metadata": {},
   "outputs": [],
   "source": [
    "grouped_feature_list = []\n",
    "correlated_groups_list = []\n",
    "for feature in corrdata.Features1.unique():\n",
    "    if feature not in grouped_feature_list:\n",
    "        correlated_block = corrdata[corrdata.Features1 ==feature]\n",
    "        grouped_feature_list = grouped_feature_list + list(correlated_block.Features2.unique())+[feature]\n",
    "        correlated_groups_list.append(correlated_block)"
   ]
  },
  {
   "cell_type": "code",
   "execution_count": 83,
   "metadata": {},
   "outputs": [
    {
     "data": {
      "text/plain": [
       "57"
      ]
     },
     "execution_count": 83,
     "metadata": {},
     "output_type": "execute_result"
    }
   ],
   "source": [
    "# out of the correlated features there are 56 groups\n",
    "len(correlated_groups_list)"
   ]
  },
  {
   "cell_type": "code",
   "execution_count": 84,
   "metadata": {},
   "outputs": [
    {
     "name": "stdout",
     "output_type": "stream",
     "text": [
      "   Features1  Features2  Value\n",
      "0        140        152    1.0\n",
      "   Features1  Features2  Value\n",
      "2        160        148    1.0\n",
      "   Features1  Features2  Value\n",
      "4        137        149    1.0\n",
      "   Features1  Features2  Value\n",
      "6        256        115    1.0\n",
      "   Features1  Features2  Value\n",
      "8        254        115    1.0\n",
      "    Features1  Features2  Value\n",
      "10        183        147    1.0\n",
      "    Features1  Features2  Value\n",
      "12        175        143    1.0\n",
      "    Features1  Features2     Value\n",
      "14        119        108  0.999877\n",
      "16        119        161  0.999805\n",
      "     Features1  Features2     Value\n",
      "18          23         54  0.999739\n",
      "252         23         55  0.932170\n",
      "255         23         24  0.932170\n",
      "450         23        208  0.868936\n",
      "473         23         21  0.861805\n",
      "     Features1  Features2     Value\n",
      "22          60         29  0.999590\n",
      "120         60         28  0.983309\n",
      "146         60         59  0.977587\n",
      "198         60        210  0.956832\n",
      "369         60         32  0.897546\n",
      "399         60         27  0.886202\n",
      "     Features1  Features2     Value\n",
      "24          71         35  0.999322\n",
      "235         71         34  0.942907\n",
      "236         71         70  0.942739\n",
      "319         71         26  0.909618\n",
      "335         71         57  0.905342\n",
      "417         71        209  0.879967\n",
      "    Features1  Features2     Value\n",
      "26         47        100  0.999266\n",
      "48         47         20  0.997792\n",
      "58         47         49  0.996354\n",
      "    Features1  Features2    Value\n",
      "28         14         17  0.99926\n",
      "     Features1  Features2     Value\n",
      "30         222        224  0.999132\n",
      "350        222        221  0.901647\n",
      "361        222        223  0.900356\n",
      "     Features1  Features2     Value\n",
      "36         128        267  0.998331\n",
      "83         128        268  0.991068\n",
      "465        128        265  0.865040\n",
      "     Features1  Features2     Value\n",
      "38         165        258  0.998305\n",
      "63         165        257  0.996068\n",
      "114        165        118  0.984577\n",
      "123        165        260  0.983159\n",
      "148        165        259  0.977345\n",
      "193        165        126  0.960250\n",
      "     Features1  Features2     Value\n",
      "42          13         16  0.998244\n",
      "388         13         15  0.890003\n",
      "408         13         18  0.882374\n",
      "     Features1  Features2     Value\n",
      "50         233        206  0.997786\n",
      "316        233        230  0.909827\n",
      "443        233        232  0.871423\n",
      "     Features1  Features2     Value\n",
      "60         121        112  0.996246\n",
      "113        121        244  0.985131\n",
      "158        121        132  0.974867\n",
      "170        121        245  0.971836\n",
      "418        121        242  0.879932\n",
      "     Features1  Features2     Value\n",
      "66          53         22  0.993612\n",
      "345         53        207  0.903198\n",
      "     Features1  Features2     Value\n",
      "70         264        110  0.992844\n",
      "131        264        263  0.981806\n",
      "     Features1  Features2     Value\n",
      "76          84         80  0.991918\n",
      "449         84         87  0.869295\n",
      "468         84         83  0.862647\n",
      "     Features1  Features2     Value\n",
      "78          31         30  0.991911\n",
      "304         31         62  0.916028\n",
      "355         31         61  0.901383\n",
      "    Features1  Features2     Value\n",
      "84         50        101  0.990676\n",
      "     Features1  Features2     Value\n",
      "86          46         48  0.989378\n",
      "382         46        102  0.892829\n",
      "425         46         99  0.877271\n",
      "     Features1  Features2     Value\n",
      "88         162        129  0.989083\n",
      "488        162        136  0.858475\n",
      "     Features1  Features2     Value\n",
      "96         248        249  0.988478\n",
      "99         248        113  0.987535\n",
      "289        248        246  0.921611\n",
      "     Features1  Features2     Value\n",
      "104         82         86  0.986913\n",
      "241         82        219  0.938928\n",
      "251         82         83  0.934797\n",
      "277         82         87  0.924315\n",
      "306         82        213  0.915862\n",
      "505         82        220  0.854345\n",
      "     Features1  Features2     Value\n",
      "106        253        252  0.986446\n",
      "263        253        250  0.930622\n",
      "     Features1  Features2     Value\n",
      "108         85         81  0.986429\n",
      "     Features1  Features2     Value\n",
      "124        122        123  0.982949\n",
      "     Features1  Features2     Value\n",
      "126         51         95  0.982656\n",
      "     Features1  Features2     Value\n",
      "128        172        185  0.982226\n",
      "     Features1  Features2     Value\n",
      "142         58         63  0.978387\n",
      "202         58         27  0.954793\n",
      "229         58         32  0.944095\n",
      "     Features1  Features2     Value\n",
      "144         36         38  0.977742\n",
      "225         36         40  0.945653\n",
      "281         36         37  0.924091\n",
      "435         36         74  0.874121\n",
      "     Features1  Features2     Value\n",
      "168        187        188  0.972507\n",
      "264        187        186  0.929953\n",
      "347        187        189  0.902977\n",
      "431        187         43  0.875207\n",
      "     Features1  Features2     Value\n",
      "172        271        272  0.970078\n",
      "336        271        133  0.905024\n",
      "     Features1  Features2     Value\n",
      "175         72         74  0.968968\n",
      "286         72         37  0.922744\n",
      "375         72         40  0.896092\n",
      "437         72         38  0.872964\n",
      "     Features1  Features2     Value\n",
      "182          4         11  0.965907\n",
      "392          4          5  0.887059\n",
      "493          4         12  0.857453\n",
      "     Features1  Features2     Value\n",
      "189        214        220  0.961999\n",
      "294        214        213  0.918276\n",
      "364        214         87  0.898078\n",
      "405        214        219  0.885176\n",
      "410        214         83  0.881441\n",
      "     Features1  Features2     Value\n",
      "206        106        107  0.953021\n",
      "     Features1  Features2     Value\n",
      "212         79         78  0.952092\n",
      "471         79         76  0.862321\n",
      "     Features1  Features2     Value\n",
      "218        204        205  0.947847\n",
      "     Features1  Features2     Value\n",
      "223         44         43  0.945711\n",
      "387         44        186  0.890037\n",
      "482         44        189  0.860506\n",
      "     Features1  Features2     Value\n",
      "226        240        241  0.944150\n",
      "279        240        111  0.924174\n",
      "     Features1  Features2     Value\n",
      "242         90         91  0.938005\n",
      "385         90         66  0.892195\n",
      "     Features1  Features2     Value\n",
      "249         67         66  0.935074\n",
      "423         67         91  0.878210\n",
      "     Features1  Features2     Value\n",
      "272         96         97  0.924383\n",
      "     Features1  Features2     Value\n",
      "290         52         21  0.921399\n",
      "     Features1  Features2     Value\n",
      "320         56        104  0.909390\n",
      "478         56         25  0.861351\n",
      "     Features1  Features2     Value\n",
      "332        216        215  0.905499\n",
      "     Features1  Features2     Value\n",
      "372        105         89  0.896789\n",
      "380        105         42  0.893937\n",
      "     Features1  Features2     Value\n",
      "400         10        131  0.886045\n",
      "     Features1  Features2     Value\n",
      "428          9          8  0.875337\n",
      "438          9        218  0.872932\n",
      "     Features1  Features2     Value\n",
      "466          6          7  0.863212\n",
      "     Features1  Features2     Value\n",
      "477        217          8  0.861562\n",
      "515        217        218  0.850287\n",
      "     Features1  Features2     Value\n",
      "494         69         68  0.857153\n"
     ]
    }
   ],
   "source": [
    "for group in correlated_groups_list:\n",
    "    print(group)"
   ]
  },
  {
   "cell_type": "markdown",
   "metadata": {},
   "source": [
    "### feature importance based on tree based classifiers"
   ]
  },
  {
   "cell_type": "code",
   "execution_count": 87,
   "metadata": {},
   "outputs": [],
   "source": [
    "# we will use this to select the best performing features based on the classifiers\n",
    "\n",
    "important_features = []\n",
    "for group in correlated_groups_list:\n",
    "    features = list(group.Features1.unique()) +list(group.Features2.unique())\n",
    "    rf = RandomForestClassifier(n_estimators = 100, random_state = 0, n_jobs=-1)\n",
    "    rf.fit(X_train_unique[features],y_train)\n",
    "    \n",
    "    importance = pd.concat([pd.Series(features),pd.Series(rf.feature_importances_)],axis = 1)\n",
    "    importance.columns = ['features', 'importance']\n",
    "    importance.sort_values(by = 'importance', ascending = False, inplace = True)\n",
    "    feat = importance.iloc[0]\n",
    "    important_features.append(feat)"
   ]
  },
  {
   "cell_type": "code",
   "execution_count": 89,
   "metadata": {},
   "outputs": [
    {
     "data": {
      "text/plain": [
       "[features      140.000000\n",
       " importance      0.549083\n",
       " Name: 0, dtype: float64, features      148.000000\n",
       " importance      0.505979\n",
       " Name: 1, dtype: float64, features      137.000000\n",
       " importance      0.506065\n",
       " Name: 0, dtype: float64, features      256.000000\n",
       " importance      0.514706\n",
       " Name: 0, dtype: float64, features      254.000000\n",
       " importance      0.514706\n",
       " Name: 0, dtype: float64, features      183.0\n",
       " importance      0.5\n",
       " Name: 0, dtype: float64, features      143.000000\n",
       " importance      0.545455\n",
       " Name: 1, dtype: float64, features      108.000000\n",
       " importance      0.998703\n",
       " Name: 1, dtype: float64, features      54.000000\n",
       " importance     0.302435\n",
       " Name: 1, dtype: float64, features      27.000000\n",
       " importance     0.315714\n",
       " Name: 6, dtype: float64, features      209.000000\n",
       " importance      0.436237\n",
       " Name: 6, dtype: float64, features      100.00000\n",
       " importance      0.48806\n",
       " Name: 1, dtype: float64, features      14.000000\n",
       " importance     0.505961\n",
       " Name: 0, dtype: float64, features      222.000000\n",
       " importance      0.296214\n",
       " Name: 0, dtype: float64, features      267.00\n",
       " importance      0.37\n",
       " Name: 1, dtype: float64, features      126.000000\n",
       " importance      0.490479\n",
       " Name: 6, dtype: float64, features      18.000000\n",
       " importance     0.416433\n",
       " Name: 3, dtype: float64, features      230.000000\n",
       " importance      0.327914\n",
       " Name: 2, dtype: float64, features      132.000000\n",
       " importance      0.944677\n",
       " Name: 3, dtype: float64, features      207.000000\n",
       " importance      0.412402\n",
       " Name: 2, dtype: float64, features      110.000000\n",
       " importance      0.438202\n",
       " Name: 1, dtype: float64, features      87.000000\n",
       " importance     0.297606\n",
       " Name: 2, dtype: float64, features      61.000000\n",
       " importance     0.422461\n",
       " Name: 3, dtype: float64, features      50.000000\n",
       " importance     0.532306\n",
       " Name: 0, dtype: float64, features      99.000000\n",
       " importance     0.443858\n",
       " Name: 3, dtype: float64, features      129.000000\n",
       " importance      0.422222\n",
       " Name: 1, dtype: float64, features      249.0000\n",
       " importance      0.4285\n",
       " Name: 1, dtype: float64, features      220.000000\n",
       " importance      0.277363\n",
       " Name: 6, dtype: float64, features      252.000000\n",
       " importance      0.439465\n",
       " Name: 1, dtype: float64, features      81.000000\n",
       " importance     0.514034\n",
       " Name: 1, dtype: float64, features      122.000000\n",
       " importance      0.523841\n",
       " Name: 0, dtype: float64, features      95.000000\n",
       " importance     0.515016\n",
       " Name: 1, dtype: float64, features      172.00000\n",
       " importance      0.85289\n",
       " Name: 0, dtype: float64, features      32.000000\n",
       " importance     0.308077\n",
       " Name: 3, dtype: float64, features      74.000000\n",
       " importance     0.364878\n",
       " Name: 4, dtype: float64, features      43.000000\n",
       " importance     0.524801\n",
       " Name: 4, dtype: float64, features      272.00000\n",
       " importance      0.40396\n",
       " Name: 1, dtype: float64, features      38.000000\n",
       " importance     0.333907\n",
       " Name: 4, dtype: float64, features      5.000000\n",
       " importance    0.286936\n",
       " Name: 2, dtype: float64, features      87.000000\n",
       " importance     0.193321\n",
       " Name: 3, dtype: float64, features      106.000000\n",
       " importance      0.562653\n",
       " Name: 0, dtype: float64, features      79.000000\n",
       " importance     0.414163\n",
       " Name: 0, dtype: float64, features      204.000000\n",
       " importance      0.626326\n",
       " Name: 0, dtype: float64, features      186.000000\n",
       " importance      0.362013\n",
       " Name: 2, dtype: float64, features      111.000000\n",
       " importance      0.338869\n",
       " Name: 2, dtype: float64, features      90.000000\n",
       " importance     0.391388\n",
       " Name: 0, dtype: float64, features      66.000000\n",
       " importance     0.396966\n",
       " Name: 1, dtype: float64, features      96.000000\n",
       " importance     0.536916\n",
       " Name: 0, dtype: float64, features      52.000000\n",
       " importance     0.517104\n",
       " Name: 0, dtype: float64, features      104.000000\n",
       " importance      0.455732\n",
       " Name: 1, dtype: float64, features      216.00000\n",
       " importance      0.60334\n",
       " Name: 0, dtype: float64, features      89.000000\n",
       " importance     0.448512\n",
       " Name: 1, dtype: float64, features      131.000000\n",
       " importance      0.645583\n",
       " Name: 1, dtype: float64, features      8.000000\n",
       " importance    0.424463\n",
       " Name: 1, dtype: float64, features      7.0000\n",
       " importance    0.5847\n",
       " Name: 1, dtype: float64, features      8.000000\n",
       " importance    0.582971\n",
       " Name: 1, dtype: float64, features      68.000000\n",
       " importance     0.638033\n",
       " Name: 1, dtype: float64]"
      ]
     },
     "execution_count": 89,
     "metadata": {},
     "output_type": "execute_result"
    }
   ],
   "source": [
    "important_features "
   ]
  },
  {
   "cell_type": "code",
   "execution_count": 91,
   "metadata": {},
   "outputs": [],
   "source": [
    "important_features = pd.DataFrame(important_features)"
   ]
  },
  {
   "cell_type": "code",
   "execution_count": 92,
   "metadata": {},
   "outputs": [],
   "source": [
    "important_features.reset_index(inplace=True, drop = True)"
   ]
  },
  {
   "cell_type": "code",
   "execution_count": 93,
   "metadata": {},
   "outputs": [
    {
     "data": {
      "text/html": [
       "<div>\n",
       "<style scoped>\n",
       "    .dataframe tbody tr th:only-of-type {\n",
       "        vertical-align: middle;\n",
       "    }\n",
       "\n",
       "    .dataframe tbody tr th {\n",
       "        vertical-align: top;\n",
       "    }\n",
       "\n",
       "    .dataframe thead th {\n",
       "        text-align: right;\n",
       "    }\n",
       "</style>\n",
       "<table border=\"1\" class=\"dataframe\">\n",
       "  <thead>\n",
       "    <tr style=\"text-align: right;\">\n",
       "      <th></th>\n",
       "      <th>features</th>\n",
       "      <th>importance</th>\n",
       "    </tr>\n",
       "  </thead>\n",
       "  <tbody>\n",
       "    <tr>\n",
       "      <td>0</td>\n",
       "      <td>140.0</td>\n",
       "      <td>0.549083</td>\n",
       "    </tr>\n",
       "    <tr>\n",
       "      <td>1</td>\n",
       "      <td>148.0</td>\n",
       "      <td>0.505979</td>\n",
       "    </tr>\n",
       "    <tr>\n",
       "      <td>2</td>\n",
       "      <td>137.0</td>\n",
       "      <td>0.506065</td>\n",
       "    </tr>\n",
       "    <tr>\n",
       "      <td>3</td>\n",
       "      <td>256.0</td>\n",
       "      <td>0.514706</td>\n",
       "    </tr>\n",
       "    <tr>\n",
       "      <td>4</td>\n",
       "      <td>254.0</td>\n",
       "      <td>0.514706</td>\n",
       "    </tr>\n",
       "    <tr>\n",
       "      <td>5</td>\n",
       "      <td>183.0</td>\n",
       "      <td>0.500000</td>\n",
       "    </tr>\n",
       "    <tr>\n",
       "      <td>6</td>\n",
       "      <td>143.0</td>\n",
       "      <td>0.545455</td>\n",
       "    </tr>\n",
       "    <tr>\n",
       "      <td>7</td>\n",
       "      <td>108.0</td>\n",
       "      <td>0.998703</td>\n",
       "    </tr>\n",
       "    <tr>\n",
       "      <td>8</td>\n",
       "      <td>54.0</td>\n",
       "      <td>0.302435</td>\n",
       "    </tr>\n",
       "    <tr>\n",
       "      <td>9</td>\n",
       "      <td>27.0</td>\n",
       "      <td>0.315714</td>\n",
       "    </tr>\n",
       "    <tr>\n",
       "      <td>10</td>\n",
       "      <td>209.0</td>\n",
       "      <td>0.436237</td>\n",
       "    </tr>\n",
       "    <tr>\n",
       "      <td>11</td>\n",
       "      <td>100.0</td>\n",
       "      <td>0.488060</td>\n",
       "    </tr>\n",
       "    <tr>\n",
       "      <td>12</td>\n",
       "      <td>14.0</td>\n",
       "      <td>0.505961</td>\n",
       "    </tr>\n",
       "    <tr>\n",
       "      <td>13</td>\n",
       "      <td>222.0</td>\n",
       "      <td>0.296214</td>\n",
       "    </tr>\n",
       "    <tr>\n",
       "      <td>14</td>\n",
       "      <td>267.0</td>\n",
       "      <td>0.370000</td>\n",
       "    </tr>\n",
       "    <tr>\n",
       "      <td>15</td>\n",
       "      <td>126.0</td>\n",
       "      <td>0.490479</td>\n",
       "    </tr>\n",
       "    <tr>\n",
       "      <td>16</td>\n",
       "      <td>18.0</td>\n",
       "      <td>0.416433</td>\n",
       "    </tr>\n",
       "    <tr>\n",
       "      <td>17</td>\n",
       "      <td>230.0</td>\n",
       "      <td>0.327914</td>\n",
       "    </tr>\n",
       "    <tr>\n",
       "      <td>18</td>\n",
       "      <td>132.0</td>\n",
       "      <td>0.944677</td>\n",
       "    </tr>\n",
       "    <tr>\n",
       "      <td>19</td>\n",
       "      <td>207.0</td>\n",
       "      <td>0.412402</td>\n",
       "    </tr>\n",
       "    <tr>\n",
       "      <td>20</td>\n",
       "      <td>110.0</td>\n",
       "      <td>0.438202</td>\n",
       "    </tr>\n",
       "    <tr>\n",
       "      <td>21</td>\n",
       "      <td>87.0</td>\n",
       "      <td>0.297606</td>\n",
       "    </tr>\n",
       "    <tr>\n",
       "      <td>22</td>\n",
       "      <td>61.0</td>\n",
       "      <td>0.422461</td>\n",
       "    </tr>\n",
       "    <tr>\n",
       "      <td>23</td>\n",
       "      <td>50.0</td>\n",
       "      <td>0.532306</td>\n",
       "    </tr>\n",
       "    <tr>\n",
       "      <td>24</td>\n",
       "      <td>99.0</td>\n",
       "      <td>0.443858</td>\n",
       "    </tr>\n",
       "    <tr>\n",
       "      <td>25</td>\n",
       "      <td>129.0</td>\n",
       "      <td>0.422222</td>\n",
       "    </tr>\n",
       "    <tr>\n",
       "      <td>26</td>\n",
       "      <td>249.0</td>\n",
       "      <td>0.428500</td>\n",
       "    </tr>\n",
       "    <tr>\n",
       "      <td>27</td>\n",
       "      <td>220.0</td>\n",
       "      <td>0.277363</td>\n",
       "    </tr>\n",
       "    <tr>\n",
       "      <td>28</td>\n",
       "      <td>252.0</td>\n",
       "      <td>0.439465</td>\n",
       "    </tr>\n",
       "    <tr>\n",
       "      <td>29</td>\n",
       "      <td>81.0</td>\n",
       "      <td>0.514034</td>\n",
       "    </tr>\n",
       "    <tr>\n",
       "      <td>30</td>\n",
       "      <td>122.0</td>\n",
       "      <td>0.523841</td>\n",
       "    </tr>\n",
       "    <tr>\n",
       "      <td>31</td>\n",
       "      <td>95.0</td>\n",
       "      <td>0.515016</td>\n",
       "    </tr>\n",
       "    <tr>\n",
       "      <td>32</td>\n",
       "      <td>172.0</td>\n",
       "      <td>0.852890</td>\n",
       "    </tr>\n",
       "    <tr>\n",
       "      <td>33</td>\n",
       "      <td>32.0</td>\n",
       "      <td>0.308077</td>\n",
       "    </tr>\n",
       "    <tr>\n",
       "      <td>34</td>\n",
       "      <td>74.0</td>\n",
       "      <td>0.364878</td>\n",
       "    </tr>\n",
       "    <tr>\n",
       "      <td>35</td>\n",
       "      <td>43.0</td>\n",
       "      <td>0.524801</td>\n",
       "    </tr>\n",
       "    <tr>\n",
       "      <td>36</td>\n",
       "      <td>272.0</td>\n",
       "      <td>0.403960</td>\n",
       "    </tr>\n",
       "    <tr>\n",
       "      <td>37</td>\n",
       "      <td>38.0</td>\n",
       "      <td>0.333907</td>\n",
       "    </tr>\n",
       "    <tr>\n",
       "      <td>38</td>\n",
       "      <td>5.0</td>\n",
       "      <td>0.286936</td>\n",
       "    </tr>\n",
       "    <tr>\n",
       "      <td>39</td>\n",
       "      <td>87.0</td>\n",
       "      <td>0.193321</td>\n",
       "    </tr>\n",
       "    <tr>\n",
       "      <td>40</td>\n",
       "      <td>106.0</td>\n",
       "      <td>0.562653</td>\n",
       "    </tr>\n",
       "    <tr>\n",
       "      <td>41</td>\n",
       "      <td>79.0</td>\n",
       "      <td>0.414163</td>\n",
       "    </tr>\n",
       "    <tr>\n",
       "      <td>42</td>\n",
       "      <td>204.0</td>\n",
       "      <td>0.626326</td>\n",
       "    </tr>\n",
       "    <tr>\n",
       "      <td>43</td>\n",
       "      <td>186.0</td>\n",
       "      <td>0.362013</td>\n",
       "    </tr>\n",
       "    <tr>\n",
       "      <td>44</td>\n",
       "      <td>111.0</td>\n",
       "      <td>0.338869</td>\n",
       "    </tr>\n",
       "    <tr>\n",
       "      <td>45</td>\n",
       "      <td>90.0</td>\n",
       "      <td>0.391388</td>\n",
       "    </tr>\n",
       "    <tr>\n",
       "      <td>46</td>\n",
       "      <td>66.0</td>\n",
       "      <td>0.396966</td>\n",
       "    </tr>\n",
       "    <tr>\n",
       "      <td>47</td>\n",
       "      <td>96.0</td>\n",
       "      <td>0.536916</td>\n",
       "    </tr>\n",
       "    <tr>\n",
       "      <td>48</td>\n",
       "      <td>52.0</td>\n",
       "      <td>0.517104</td>\n",
       "    </tr>\n",
       "    <tr>\n",
       "      <td>49</td>\n",
       "      <td>104.0</td>\n",
       "      <td>0.455732</td>\n",
       "    </tr>\n",
       "    <tr>\n",
       "      <td>50</td>\n",
       "      <td>216.0</td>\n",
       "      <td>0.603340</td>\n",
       "    </tr>\n",
       "    <tr>\n",
       "      <td>51</td>\n",
       "      <td>89.0</td>\n",
       "      <td>0.448512</td>\n",
       "    </tr>\n",
       "    <tr>\n",
       "      <td>52</td>\n",
       "      <td>131.0</td>\n",
       "      <td>0.645583</td>\n",
       "    </tr>\n",
       "    <tr>\n",
       "      <td>53</td>\n",
       "      <td>8.0</td>\n",
       "      <td>0.424463</td>\n",
       "    </tr>\n",
       "    <tr>\n",
       "      <td>54</td>\n",
       "      <td>7.0</td>\n",
       "      <td>0.584700</td>\n",
       "    </tr>\n",
       "    <tr>\n",
       "      <td>55</td>\n",
       "      <td>8.0</td>\n",
       "      <td>0.582971</td>\n",
       "    </tr>\n",
       "    <tr>\n",
       "      <td>56</td>\n",
       "      <td>68.0</td>\n",
       "      <td>0.638033</td>\n",
       "    </tr>\n",
       "  </tbody>\n",
       "</table>\n",
       "</div>"
      ],
      "text/plain": [
       "    features  importance\n",
       "0      140.0    0.549083\n",
       "1      148.0    0.505979\n",
       "2      137.0    0.506065\n",
       "3      256.0    0.514706\n",
       "4      254.0    0.514706\n",
       "5      183.0    0.500000\n",
       "6      143.0    0.545455\n",
       "7      108.0    0.998703\n",
       "8       54.0    0.302435\n",
       "9       27.0    0.315714\n",
       "10     209.0    0.436237\n",
       "11     100.0    0.488060\n",
       "12      14.0    0.505961\n",
       "13     222.0    0.296214\n",
       "14     267.0    0.370000\n",
       "15     126.0    0.490479\n",
       "16      18.0    0.416433\n",
       "17     230.0    0.327914\n",
       "18     132.0    0.944677\n",
       "19     207.0    0.412402\n",
       "20     110.0    0.438202\n",
       "21      87.0    0.297606\n",
       "22      61.0    0.422461\n",
       "23      50.0    0.532306\n",
       "24      99.0    0.443858\n",
       "25     129.0    0.422222\n",
       "26     249.0    0.428500\n",
       "27     220.0    0.277363\n",
       "28     252.0    0.439465\n",
       "29      81.0    0.514034\n",
       "30     122.0    0.523841\n",
       "31      95.0    0.515016\n",
       "32     172.0    0.852890\n",
       "33      32.0    0.308077\n",
       "34      74.0    0.364878\n",
       "35      43.0    0.524801\n",
       "36     272.0    0.403960\n",
       "37      38.0    0.333907\n",
       "38       5.0    0.286936\n",
       "39      87.0    0.193321\n",
       "40     106.0    0.562653\n",
       "41      79.0    0.414163\n",
       "42     204.0    0.626326\n",
       "43     186.0    0.362013\n",
       "44     111.0    0.338869\n",
       "45      90.0    0.391388\n",
       "46      66.0    0.396966\n",
       "47      96.0    0.536916\n",
       "48      52.0    0.517104\n",
       "49     104.0    0.455732\n",
       "50     216.0    0.603340\n",
       "51      89.0    0.448512\n",
       "52     131.0    0.645583\n",
       "53       8.0    0.424463\n",
       "54       7.0    0.584700\n",
       "55       8.0    0.582971\n",
       "56      68.0    0.638033"
      ]
     },
     "execution_count": 93,
     "metadata": {},
     "output_type": "execute_result"
    }
   ],
   "source": [
    "important_features"
   ]
  },
  {
   "cell_type": "code",
   "execution_count": 94,
   "metadata": {},
   "outputs": [],
   "source": [
    "# Getting features we want to drop\n",
    "\n",
    "features_to_consider = set(important_features['features'])\n",
    "features_to_discard = set(corr_features) - set(features_to_consider)"
   ]
  },
  {
   "cell_type": "code",
   "execution_count": 95,
   "metadata": {},
   "outputs": [],
   "source": [
    "features_to_discard = list(features_to_discard)"
   ]
  },
  {
   "cell_type": "code",
   "execution_count": 100,
   "metadata": {},
   "outputs": [
    {
     "data": {
      "text/plain": [
       "((60816, 168), (15204, 168))"
      ]
     },
     "execution_count": 100,
     "metadata": {},
     "output_type": "execute_result"
    }
   ],
   "source": [
    "X_train_grouped_uncorr = X_train_unique.drop(labels = features_to_discard, axis =1)\n",
    "X_test_grouped_uncorr = X_test_unique.drop(labels = features_to_discard, axis =1)\n",
    "X_train_grouped_uncorr.shape,X_test_grouped_uncorr.shape"
   ]
  },
  {
   "cell_type": "code",
   "execution_count": 99,
   "metadata": {},
   "outputs": [
    {
     "name": "stdout",
     "output_type": "stream",
     "text": [
      "Accuracy on test set: \n",
      "0.9580373585898447\n",
      "Wall time: 20.1 s\n"
     ]
    }
   ],
   "source": [
    "%%time \n",
    "run_randomForest(X_train_grouped_uncorr,X_test_grouped_uncorr,y_train,y_test)"
   ]
  },
  {
   "cell_type": "code",
   "execution_count": null,
   "metadata": {},
   "outputs": [],
   "source": []
  },
  {
   "cell_type": "code",
   "execution_count": null,
   "metadata": {},
   "outputs": [],
   "source": []
  },
  {
   "cell_type": "markdown",
   "metadata": {},
   "source": [
    "## Feature selection with mutual information Gain"
   ]
  },
  {
   "cell_type": "code",
   "execution_count": null,
   "metadata": {},
   "outputs": [],
   "source": []
  }
 ],
 "metadata": {
  "kernelspec": {
   "display_name": "Python 3",
   "language": "python",
   "name": "python3"
  },
  "language_info": {
   "codemirror_mode": {
    "name": "ipython",
    "version": 3
   },
   "file_extension": ".py",
   "mimetype": "text/x-python",
   "name": "python",
   "nbconvert_exporter": "python",
   "pygments_lexer": "ipython3",
   "version": "3.7.4"
  }
 },
 "nbformat": 4,
 "nbformat_minor": 2
}
